{
 "cells": [
  {
   "cell_type": "markdown",
   "id": "64480b31",
   "metadata": {},
   "source": [
    "https://www.analyticsvidhya.com/blog/2022/03/audio-denoiser-a-speech-enhancement-deep-learning-model/"
   ]
  },
  {
   "cell_type": "markdown",
   "id": "1ca0c491",
   "metadata": {},
   "source": [
    "https://towardsdatascience.com/40-open-source-audio-datasets-for-ml-59dc39d48f06"
   ]
  },
  {
   "cell_type": "markdown",
   "id": "7299cf42",
   "metadata": {},
   "source": [
    "# Importing Libraries"
   ]
  },
  {
   "cell_type": "code",
   "execution_count": null,
   "id": "93015a99",
   "metadata": {},
   "outputs": [],
   "source": [
    "import numpy as np\n",
    "import scipy.signal as sps\n",
    "import librosa\n",
    "import soundfile as sf"
   ]
  },
  {
   "cell_type": "markdown",
   "id": "46e130ca",
   "metadata": {},
   "source": [
    "# Spectral Gating Architecture"
   ]
  },
  {
   "cell_type": "code",
   "execution_count": null,
   "id": "35b7bb32",
   "metadata": {},
   "outputs": [],
   "source": [
    "def spectral_gating(input_file, output_file, threshold_db=-60, hop_length=512, win_length=1024):\n",
    "    # Load the audio file\n",
    "    audio, sr = librosa.load(input_file, sr=None)\n",
    "\n",
    "    # Apply short-time Fourier transform (STFT)\n",
    "    stft = librosa.stft(audio, n_fft=win_length, hop_length=hop_length, win_length=win_length)\n",
    "\n",
    "    # Convert magnitude spectrogram to dB scale\n",
    "    magnitude = np.abs(stft)\n",
    "    magnitude_db = librosa.amplitude_to_db(magnitude, ref=np.max)\n",
    "\n",
    "    # Apply spectral gating based on the specified threshold\n",
    "    mask = np.where(magnitude_db > threshold_db, 1.0, 0.0)\n",
    "\n",
    "    # Apply the mask to the magnitude spectrogram\n",
    "    magnitude_filtered = magnitude * mask\n",
    "\n",
    "    # Invert the STFT to obtain the processed audio\n",
    "    audio_filtered = librosa.istft(magnitude_filtered, hop_length=hop_length, win_length=win_length)\n",
    "\n",
    "    # Normalize the processed audio\n",
    "    audio_filtered /= np.max(np.abs(audio_filtered))\n",
    "\n",
    "    # Save the processed audio to a file\n",
    "    sf.write(output_file, audio_filtered, sr)\n",
    "\n",
    "    print(f\"Processed audio saved to: {output_file}\")"
   ]
  },
  {
   "cell_type": "markdown",
   "id": "0db19ec2",
   "metadata": {},
   "source": [
    "# Input file and Output file"
   ]
  },
  {
   "cell_type": "code",
   "execution_count": 2,
   "id": "5f2d71c0",
   "metadata": {},
   "outputs": [
    {
     "name": "stdout",
     "output_type": "stream",
     "text": [
      "Processed audio saved to: output.wav\n"
     ]
    }
   ],
   "source": [
    "input_file = 'mixkit-small-group-cheer-and-applause-518.wav'\n",
    "output_file = 'output.wav'\n",
    "spectral_gating(input_file, output_file, threshold_db=-60, hop_length=512, win_length=1024)\n"
   ]
  },
  {
   "cell_type": "code",
   "execution_count": null,
   "id": "d9a564c3",
   "metadata": {},
   "outputs": [],
   "source": []
  }
 ],
 "metadata": {
  "kernelspec": {
   "display_name": "Python 3 (ipykernel)",
   "language": "python",
   "name": "python3"
  },
  "language_info": {
   "codemirror_mode": {
    "name": "ipython",
    "version": 3
   },
   "file_extension": ".py",
   "mimetype": "text/x-python",
   "name": "python",
   "nbconvert_exporter": "python",
   "pygments_lexer": "ipython3",
   "version": "3.9.15"
  }
 },
 "nbformat": 4,
 "nbformat_minor": 5
}
