{
 "cells": [
  {
   "cell_type": "code",
   "execution_count": 1,
   "id": "a428d89a",
   "metadata": {},
   "outputs": [
    {
     "ename": "ValueError",
     "evalue": "operands could not be broadcast together with shapes (1025,3508) (1025,2068) ",
     "output_type": "error",
     "traceback": [
      "\u001b[1;31m---------------------------------------------------------------------------\u001b[0m",
      "\u001b[1;31mValueError\u001b[0m                                Traceback (most recent call last)",
      "Cell \u001b[1;32mIn[1], line 37\u001b[0m\n\u001b[0;32m     34\u001b[0m noise, _ \u001b[38;5;241m=\u001b[39m librosa\u001b[38;5;241m.\u001b[39mload(noise_file, sr\u001b[38;5;241m=\u001b[39m\u001b[38;5;28;01mNone\u001b[39;00m)\n\u001b[0;32m     36\u001b[0m \u001b[38;5;66;03m# Apply spectral subtraction for noise reduction\u001b[39;00m\n\u001b[1;32m---> 37\u001b[0m processed_audio \u001b[38;5;241m=\u001b[39m \u001b[43mspectral_subtraction\u001b[49m\u001b[43m(\u001b[49m\u001b[43maudio\u001b[49m\u001b[43m,\u001b[49m\u001b[43m \u001b[49m\u001b[43mnoise\u001b[49m\u001b[43m,\u001b[49m\u001b[43m \u001b[49m\u001b[43malpha\u001b[49m\u001b[38;5;241;43m=\u001b[39;49m\u001b[38;5;241;43m1.0\u001b[39;49m\u001b[43m)\u001b[49m\n\u001b[0;32m     39\u001b[0m \u001b[38;5;66;03m# Save the processed audio to a file\u001b[39;00m\n\u001b[0;32m     40\u001b[0m output_file \u001b[38;5;241m=\u001b[39m \u001b[38;5;124m'\u001b[39m\u001b[38;5;124mprocessed_audio.wav\u001b[39m\u001b[38;5;124m'\u001b[39m\n",
      "Cell \u001b[1;32mIn[1], line 17\u001b[0m, in \u001b[0;36mspectral_subtraction\u001b[1;34m(audio, noise, alpha)\u001b[0m\n\u001b[0;32m     14\u001b[0m noise_spec \u001b[38;5;241m=\u001b[39m noise_spec[:, :audio_spec\u001b[38;5;241m.\u001b[39mshape[\u001b[38;5;241m1\u001b[39m]]\n\u001b[0;32m     16\u001b[0m \u001b[38;5;66;03m# Apply spectral subtraction\u001b[39;00m\n\u001b[1;32m---> 17\u001b[0m processed_spec \u001b[38;5;241m=\u001b[39m np\u001b[38;5;241m.\u001b[39mmaximum(\u001b[43maudio_spec\u001b[49m\u001b[43m \u001b[49m\u001b[38;5;241;43m-\u001b[39;49m\u001b[43m \u001b[49m\u001b[43malpha\u001b[49m\u001b[43m \u001b[49m\u001b[38;5;241;43m*\u001b[39;49m\u001b[43m \u001b[49m\u001b[43mnoise_spec\u001b[49m, \u001b[38;5;241m0.0\u001b[39m)\n\u001b[0;32m     19\u001b[0m \u001b[38;5;66;03m# Compute the phase of the audio\u001b[39;00m\n\u001b[0;32m     20\u001b[0m audio_phase \u001b[38;5;241m=\u001b[39m np\u001b[38;5;241m.\u001b[39mexp(\u001b[38;5;241m1.0\u001b[39mj \u001b[38;5;241m*\u001b[39m np\u001b[38;5;241m.\u001b[39mangle(librosa\u001b[38;5;241m.\u001b[39mstft(audio)))\n",
      "\u001b[1;31mValueError\u001b[0m: operands could not be broadcast together with shapes (1025,3508) (1025,2068) "
     ]
    }
   ],
   "source": [
    "import numpy as np\n",
    "import librosa\n",
    "import soundfile as sf\n",
    "\n",
    "\n",
    "def spectral_subtraction(audio, noise, alpha=1.0):\n",
    "    # Compute the magnitude spectrogram of the audio\n",
    "    audio_spec = np.abs(librosa.stft(audio))\n",
    "\n",
    "    # Compute the magnitude spectrogram of the noise\n",
    "    noise_spec = np.abs(librosa.stft(noise))\n",
    "\n",
    "    # Adjust the shape of the noise spectrogram to match the audio spectrogram\n",
    "    noise_spec = noise_spec[:, :audio_spec.shape[1]]\n",
    "\n",
    "    # Apply spectral subtraction\n",
    "    processed_spec = np.maximum(audio_spec - alpha * noise_spec, 0.0)\n",
    "\n",
    "    # Compute the phase of the audio\n",
    "    audio_phase = np.exp(1.0j * np.angle(librosa.stft(audio)))\n",
    "\n",
    "    # Reconstruct the denoised audio from the processed spectrogram\n",
    "    processed_audio = librosa.istft(processed_spec * audio_phase)\n",
    "\n",
    "    return processed_audio\n",
    "\n",
    "\n",
    "# Load the input audio file\n",
    "input_file = 'city-traffic-outdoor-6414.mp3'\n",
    "audio, sr = librosa.load(input_file, sr=None)\n",
    "\n",
    "# Load the noise audio file\n",
    "noise_file = 'noise.wav'\n",
    "noise, _ = librosa.load(noise_file, sr=None)\n",
    "\n",
    "# Apply spectral subtraction for noise reduction\n",
    "processed_audio = spectral_subtraction(audio, noise, alpha=1.0)\n",
    "\n",
    "# Save the processed audio to a file\n",
    "output_file = 'processed_audio.wav'\n",
    "sf.write(output_file, processed_audio, sr)\n"
   ]
  },
  {
   "cell_type": "code",
   "execution_count": null,
   "id": "c8159b56",
   "metadata": {},
   "outputs": [],
   "source": []
  }
 ],
 "metadata": {
  "kernelspec": {
   "display_name": "Python 3 (ipykernel)",
   "language": "python",
   "name": "python3"
  },
  "language_info": {
   "codemirror_mode": {
    "name": "ipython",
    "version": 3
   },
   "file_extension": ".py",
   "mimetype": "text/x-python",
   "name": "python",
   "nbconvert_exporter": "python",
   "pygments_lexer": "ipython3",
   "version": "3.9.15"
  }
 },
 "nbformat": 4,
 "nbformat_minor": 5
}
